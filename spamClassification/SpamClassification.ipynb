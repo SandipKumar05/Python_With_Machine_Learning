{
 "cells": [
  {
   "cell_type": "code",
   "execution_count": 1,
   "metadata": {
    "collapsed": true
   },
   "outputs": [],
   "source": [
    "# Lets start\n",
    "# Import os, The OS module in Python provides a way of using operating system dependent functionality.\n",
    "import os\n",
    "# The io module provides the Python interfaces to stream handling.\n",
    "import io\n",
    "# it support multiple math function, matrix, vector etc\n",
    "# This is because the core of NumPy is written in a programming language called C,\n",
    "# which stores data differently than the Python data types.\n",
    "# NumPy data types map between Python and C, allowing us to use NumPy arrays without any conversion hitches\n",
    "import numpy as np \n",
    "# pandas is an open source, BSD-licensed library providing high-performance, \n",
    "# easy-to-use data structures and data analysis tools for the Python programming language.\n",
    "from pandas import DataFrame"
   ]
  },
  {
   "cell_type": "code",
   "execution_count": 2,
   "metadata": {
    "collapsed": true
   },
   "outputs": [],
   "source": [
    "# Scikit Learn or sklearn is same thing. it provide you basic technic or machine learning \n",
    "# Linear regression, kMean, culsture \n",
    "# Good source for beginner to develop basic machine learning technic\n",
    "\n",
    "# Convert a collection of text documents to a matrix of token counts\n",
    "# This implementation produces a sparse representation of the counts using scipy.sparse.csr_matrix.\n",
    "# If you do not provide an a-priori dictionary and you do not use an analyzer \n",
    "# that does some kind of feature selection then the number of features will be equal to the \n",
    "# vocabulary size found by analyzing the data.\n",
    "from sklearn.feature_extraction.text import CountVectorizer\n",
    "\n",
    "# Naive Bayes classifier for multinomial models\n",
    "# The multinomial Naive Bayes classifier is suitable for classification with discrete features \n",
    "# (e.g., word counts for text classification). The multinomial distribution normally requires integer feature counts. \n",
    "# However, in practice, fractional counts such as tf-idf may also work.\n",
    "from sklearn.naive_bayes import MultinomialNB"
   ]
  },
  {
   "cell_type": "code",
   "execution_count": 36,
   "metadata": {
    "collapsed": true
   },
   "outputs": [],
   "source": [
    "# read msg from a given path\n",
    "def readMsg(path):\n",
    "    for root, dirnames, filenames in os.walk(path):\n",
    "        for filename in filenames:\n",
    "            path = os.path.join(root, filename)\n",
    "            \n",
    "            inbody = False\n",
    "            message = []\n",
    "            lines = io.open(path, 'r', encoding = 'latin1')\n",
    "            \n",
    "            for line in lines:\n",
    "                if inbody:\n",
    "                    message.append(line)\n",
    "                elif line == '\\n':\n",
    "                    inbody = True\n",
    "            lines.close()\n",
    "            messages = '\\n'.join(message)\n",
    "            yield path, messages\n",
    "# At a glance, the yield statement is used to define generators, replacing the \n",
    "# return of a function to provide a result to its caller without destroying local variables. Unlike a function,\n",
    "# where on each call it starts with new set of variables, a generator will resume the execution where it was left off.\n",
    "\n",
    "# About Python Generators\n",
    "# Since the yield keyword is only used with generators, it makes sense to recall the concept of generators first.\n",
    "\n",
    "# The idea of generators is to calculate a series of results one-by-one on \n",
    "# demand (on the fly). In the simplest case, a generator can be used as a list"
   ]
  },
  {
   "cell_type": "code",
   "execution_count": 37,
   "metadata": {
    "collapsed": true
   },
   "outputs": [],
   "source": [
    "def readData(path, folderName):\n",
    "    rows = []\n",
    "    for filename, msg in readMsg(path):\n",
    "        rows.append({'message': msg, 'type': folderName})\n",
    "    return DataFrame(rows)"
   ]
  },
  {
   "cell_type": "code",
   "execution_count": 38,
   "metadata": {
    "collapsed": false
   },
   "outputs": [
    {
     "data": {
      "text/html": [
       "<div>\n",
       "<table border=\"1\" class=\"dataframe\">\n",
       "  <thead>\n",
       "    <tr style=\"text-align: right;\">\n",
       "      <th></th>\n",
       "      <th>message</th>\n",
       "      <th>type</th>\n",
       "    </tr>\n",
       "  </thead>\n",
       "  <tbody>\n",
       "    <tr>\n",
       "      <th>0</th>\n",
       "      <td>&lt;!DOCTYPE HTML PUBLIC \"-//W3C//DTD HTML 4.0 Tr...</td>\n",
       "      <td>spam</td>\n",
       "    </tr>\n",
       "    <tr>\n",
       "      <th>1</th>\n",
       "      <td>1) Fight The Risk of Cancer!\\n\\nhttp://www.adc...</td>\n",
       "      <td>spam</td>\n",
       "    </tr>\n",
       "    <tr>\n",
       "      <th>2</th>\n",
       "      <td>1) Fight The Risk of Cancer!\\n\\nhttp://www.adc...</td>\n",
       "      <td>spam</td>\n",
       "    </tr>\n",
       "    <tr>\n",
       "      <th>3</th>\n",
       "      <td>##############################################...</td>\n",
       "      <td>spam</td>\n",
       "    </tr>\n",
       "    <tr>\n",
       "      <th>4</th>\n",
       "      <td>I thought you might like these:\\n\\n1) Slim Dow...</td>\n",
       "      <td>spam</td>\n",
       "    </tr>\n",
       "  </tbody>\n",
       "</table>\n",
       "</div>"
      ],
      "text/plain": [
       "                                             message  type\n",
       "0  <!DOCTYPE HTML PUBLIC \"-//W3C//DTD HTML 4.0 Tr...  spam\n",
       "1  1) Fight The Risk of Cancer!\\n\\nhttp://www.adc...  spam\n",
       "2  1) Fight The Risk of Cancer!\\n\\nhttp://www.adc...  spam\n",
       "3  ##############################################...  spam\n",
       "4  I thought you might like these:\\n\\n1) Slim Dow...  spam"
      ]
     },
     "execution_count": 38,
     "metadata": {},
     "output_type": "execute_result"
    }
   ],
   "source": [
    "# time to read the data, we have data in email folder.\n",
    "# Two type of mail data, one is spam other one is ham\n",
    "\n",
    "# we store the data in a dictionary, msg is input and type is class or output.\n",
    "data = DataFrame({'message': [], 'type': []})\n",
    "\n",
    "spam_path = 'C:\\\\Users\\\\sandikumar\\\\Desktop\\\\Python_With_Machine_Learning\\\\emails\\\\spam'\n",
    "ham_path =  'C:\\\\Users\\\\sandikumar\\\\Desktop\\\\Python_With_Machine_Learning\\\\emails\\\\ham'\n",
    "# lets read the data from folder\n",
    "# We have to create a function, takes path and folder name, provide the data\n",
    "# When you provide the path to the data always replace '\\' to '\\\\', because some times. You get '\\character' have different value.\n",
    "data = readData(spam_path, 'spam')\n",
    "data = data.append(readData(ham_path, 'ham'))\n",
    "data.head()"
   ]
  },
  {
   "cell_type": "code",
   "execution_count": 39,
   "metadata": {
    "collapsed": false
   },
   "outputs": [
    {
     "data": {
      "text/plain": [
       "MultinomialNB(alpha=1.0, class_prior=None, fit_prior=True)"
      ]
     },
     "execution_count": 39,
     "metadata": {},
     "output_type": "execute_result"
    }
   ],
   "source": [
    "vectorizer = CountVectorizer()\n",
    "counts = vectorizer.fit_transform(data['message'].values)\n",
    "\n",
    "classifier = MultinomialNB()\n",
    "targets = data['type'].values\n",
    "classifier.fit(counts, targets)"
   ]
  },
  {
   "cell_type": "code",
   "execution_count": 44,
   "metadata": {
    "collapsed": false
   },
   "outputs": [
    {
     "data": {
      "text/plain": [
       "array(['spam', 'ham', 'spam'], \n",
       "      dtype='<U4')"
      ]
     },
     "execution_count": 44,
     "metadata": {},
     "output_type": "execute_result"
    }
   ],
   "source": [
    "examples = ['Free Viagra now!!!', \"Hi Bob, how about a game of golf tomorrow?\",\"fr\"]\n",
    "example_counts = vectorizer.transform(examples)\n",
    "predictions = classifier.predict(example_counts)\n",
    "predictions"
   ]
  },
  {
   "cell_type": "code",
   "execution_count": null,
   "metadata": {
    "collapsed": true
   },
   "outputs": [],
   "source": []
  }
 ],
 "metadata": {
  "kernelspec": {
   "display_name": "Python 3",
   "language": "python",
   "name": "python3"
  },
  "language_info": {
   "codemirror_mode": {
    "name": "ipython",
    "version": 3
   },
   "file_extension": ".py",
   "mimetype": "text/x-python",
   "name": "python",
   "nbconvert_exporter": "python",
   "pygments_lexer": "ipython3",
   "version": "3.5.2"
  }
 },
 "nbformat": 4,
 "nbformat_minor": 2
}
