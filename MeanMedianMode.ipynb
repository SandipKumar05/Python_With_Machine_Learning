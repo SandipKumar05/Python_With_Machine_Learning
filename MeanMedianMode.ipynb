{
 "cells": [
  {
   "cell_type": "markdown",
   "metadata": {
    "deletable": true,
    "editable": true
   },
   "source": [
    "# Mean, Median, Mode, and introducing NumPy"
   ]
  },
  {
   "cell_type": "markdown",
   "metadata": {
    "deletable": true,
    "editable": true
   },
   "source": [
    "## Mean vs. Median"
   ]
  },
  {
   "cell_type": "markdown",
   "metadata": {
    "deletable": true,
    "editable": true
   },
   "source": [
    "Let's create some fake income data, centered around 27,000 with a normal distribution and standard deviation of 15,000, with 10,000 data points. (We'll discuss those terms more later, if you're not familiar with them.)\n",
    "\n",
    "Then, compute the mean (average) - it should be close to 27,000:"
   ]
  },
  {
   "cell_type": "code",
   "execution_count": 2,
   "metadata": {
    "collapsed": false,
    "deletable": true,
    "editable": true
   },
   "outputs": [
    {
     "data": {
      "text/plain": [
       "27125.351155842858"
      ]
     },
     "execution_count": 2,
     "metadata": {},
     "output_type": "execute_result"
    }
   ],
   "source": [
    "import numpy as np\n",
    "\n",
    "incomes = np.random.normal(27000, 15000, 10000)\n",
    "np.mean(incomes)"
   ]
  },
  {
   "cell_type": "markdown",
   "metadata": {
    "deletable": true,
    "editable": true
   },
   "source": [
    "We can segment the income data into 50 buckets, and plot it as a histogram:"
   ]
  },
  {
   "cell_type": "code",
   "execution_count": 3,
   "metadata": {
    "collapsed": false,
    "deletable": true,
    "editable": true
   },
   "outputs": [
    {
     "data": {
      "image/png": "[encoded data removed]",
      "text/plain": [
       "<matplotlib.figure.Figure at 0x1bb9c6add68>"
      ]
     },
     "metadata": {},
     "output_type": "display_data"
    }
   ],
   "source": [
    "%matplotlib inline\n",
    "import matplotlib.pyplot as plt\n",
    "plt.hist(incomes, 50)\n",
    "plt.show()"
   ]
  },
  {
   "cell_type": "markdown",
   "metadata": {
    "deletable": true,
    "editable": true
   },
   "source": [
    "Now compute the median - since we have a nice, even distribution it too should be close to 27,000:"
   ]
  },
  {
   "cell_type": "code",
   "execution_count": 4,
   "metadata": {
    "collapsed": false,
    "deletable": true,
    "editable": true
   },
   "outputs": [
    {
     "data": {
      "text/plain": [
       "27237.146729772248"
      ]
     },
     "execution_count": 4,
     "metadata": {},
     "output_type": "execute_result"
    }
   ],
   "source": [
    "np.median(incomes)"
   ]
  },
  {
   "cell_type": "markdown",
   "metadata": {
    "deletable": true,
    "editable": true
   },
   "source": [
    "Now we'll add Donald Trump into the mix. Darn income inequality!"
   ]
  },
  {
   "cell_type": "code",
   "execution_count": 5,
   "metadata": {
    "collapsed": false,
    "deletable": true,
    "editable": true
   },
   "outputs": [],
   "source": [
    "incomes = np.append(incomes, [1000000000])"
   ]
  },
  {
   "cell_type": "markdown",
   "metadata": {
    "deletable": true,
    "editable": true
   },
   "source": [
    "The median won't change much, but the mean does:"
   ]
  },
  {
   "cell_type": "code",
   "execution_count": 6,
   "metadata": {
    "collapsed": false,
    "deletable": true,
    "editable": true
   },
   "outputs": [
    {
     "data": {
      "text/plain": [
       "27239.22438223799"
      ]
     },
     "execution_count": 6,
     "metadata": {},
     "output_type": "execute_result"
    }
   ],
   "source": [
    "np.median(incomes)"
   ]
  },
  {
   "cell_type": "code",
   "execution_count": 7,
   "metadata": {
    "collapsed": false,
    "deletable": true,
    "editable": true
   },
   "outputs": [
    {
     "data": {
      "text/plain": [
       "127112.63989185367"
      ]
     },
     "execution_count": 7,
     "metadata": {},
     "output_type": "execute_result"
    }
   ],
   "source": [
    "np.mean(incomes)"
   ]
  },
  {
   "cell_type": "markdown",
   "metadata": {
    "deletable": true,
    "editable": true
   },
   "source": [
    "## Mode"
   ]
  },
  {
   "cell_type": "markdown",
   "metadata": {
    "deletable": true,
    "editable": true
   },
   "source": [
    "Next, let's generate some fake age data for 500 people:"
   ]
  },
  {
   "cell_type": "code",
   "execution_count": 9,
   "metadata": {
    "collapsed": false,
    "deletable": true,
    "editable": true
   },
   "outputs": [
    {
     "data": {
      "text/plain": [
       "array([13, 65,  4, 36, 50,  1, 12, 44, 81, 53, 12, 61, 65, 47, 55, 25, 53,\n",
       "       67, 33, 54, 12, 84, 14, 21, 84, 17, 60, 33, 74, 63, 41, 71,  4,  8,\n",
       "       14,  1, 87, 45, 16, 68, 61, 60, 34, 69, 10, 56, 15, 86, 88, 50, 76,\n",
       "       33, 45, 71, 76, 31, 89,  5, 22, 59, 85, 56, 74, 48, 81, 76, 12, 23,\n",
       "       29, 78, 47, 55, 54, 75, 38, 31, 30, 86, 88, 73, 60, 68, 78, 34,  8,\n",
       "       86, 66, 60,  7,  8, 73, 86, 17, 36,  8, 28, 27, 86, 14, 66, 60, 38,\n",
       "       34, 83, 64, 67, 84,  5, 22, 83, 89, 17, 27, 69, 17, 85, 87, 30, 14,\n",
       "       85, 32, 40, 87, 54, 13, 16, 88,  9, 34, 18, 53, 49, 31, 69, 62, 50,\n",
       "       69, 73,  9, 45,  3, 12, 17, 15, 87, 82, 22, 71, 24, 81, 22, 50, 19,\n",
       "       40, 49,  3, 23, 44,  0,  8, 23, 83, 67, 32, 12, 11, 56, 77, 18, 21,\n",
       "       69, 15, 48, 75, 89,  1, 78, 76, 58, 80, 79, 71, 54,  1, 57, 81, 69,\n",
       "       26, 54, 45, 52, 10, 66,  2,  4, 36, 76, 69,  2, 11, 46, 74, 51, 19,\n",
       "       61, 74, 54, 26, 11, 49,  4,  6,  1, 40, 69, 16, 20, 34, 84, 51, 85,\n",
       "       84, 83, 73, 73, 62, 86, 75, 37, 22, 78, 77, 25, 72,  0, 63, 27, 72,\n",
       "       50, 40, 24, 67,  1,  8, 85,  5, 63, 70, 74, 86,  6, 68, 52, 43, 82,\n",
       "        8, 78, 31, 38, 70, 55, 16, 44, 71,  4, 59, 29, 59, 54, 47, 77, 87,\n",
       "       66, 43,  1,  4, 79, 46, 77, 77, 72, 42, 41, 19, 30, 15, 72, 25, 73,\n",
       "        4, 29, 36, 62, 21, 44,  7, 84, 35, 66, 56, 39, 48, 71, 15, 84, 19,\n",
       "       35, 81, 15, 36, 75, 84, 10, 59, 80, 19, 48, 88, 15, 69, 14, 81, 29,\n",
       "       56,  2, 60, 64, 17, 26, 48, 27,  0, 57, 11, 42, 19, 77, 49, 63, 38,\n",
       "       13, 77, 55, 47, 51, 46, 48, 54, 52,  2, 21, 28, 14, 56, 89, 29, 84,\n",
       "       48, 47, 82, 60, 13, 29, 33, 56,  2,  0, 51, 89,  5, 83, 42, 40,  9,\n",
       "       40, 14, 75,  8, 88, 45, 47, 28, 47, 49, 36, 81, 80, 34, 72, 86, 27,\n",
       "        2, 21, 81, 27, 12, 22, 55, 31, 60, 59,  3, 32, 52, 32, 69, 84, 25,\n",
       "       22, 33, 20, 66, 58, 31, 49,  0, 53, 77, 70, 69, 30, 76,  7, 16, 58,\n",
       "       73,  0, 18, 59, 51, 88, 78, 65, 29, 84, 55, 57, 31, 55, 88, 58, 47,\n",
       "       70, 21,  7, 68, 31, 22, 57, 74, 51, 14, 78,  3, 14, 51, 62, 53, 81,\n",
       "       80, 69, 49, 18, 24, 36, 67, 18, 38, 36,  9, 47, 65, 24, 68, 27, 11,\n",
       "       35, 12, 18, 33, 16, 41, 15, 55, 85,  1, 24, 35, 77, 47, 66, 34, 71,\n",
       "       19, 40, 72, 74, 17, 38,  1])"
      ]
     },
     "execution_count": 9,
     "metadata": {},
     "output_type": "execute_result"
    }
   ],
   "source": [
    "ages = np.random.randint(low=0, high=90, size=500)\n",
    "ages"
   ]
  },
  {
   "cell_type": "code",
   "execution_count": 8,
   "metadata": {
    "collapsed": false,
    "deletable": true,
    "editable": true
   },
   "outputs": [
    {
     "data": {
      "text/plain": [
       "ModeResult(mode=array([85]), count=array([13]))"
      ]
     },
     "execution_count": 8,
     "metadata": {},
     "output_type": "execute_result"
    }
   ],
   "source": [
    "from scipy import stats\n",
    "stats.mode(ages)"
   ]
  },
  {
   "cell_type": "code",
   "execution_count": null,
   "metadata": {
    "collapsed": false,
    "deletable": true,
    "editable": true
   },
   "outputs": [],
   "source": []
  }
 ],
 "metadata": {
  "kernelspec": {
   "display_name": "Python 3",
   "language": "python",
   "name": "python3"
  },
  "language_info": {
   "codemirror_mode": {
    "name": "ipython",
    "version": 3
   },
   "file_extension": ".py",
   "mimetype": "text/x-python",
   "name": "python",
   "nbconvert_exporter": "python",
   "pygments_lexer": "ipython3",
   "version": "3.5.2"
  }
 },
 "nbformat": 4,
 "nbformat_minor": 0
}
